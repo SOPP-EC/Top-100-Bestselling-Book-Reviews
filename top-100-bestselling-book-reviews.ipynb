{
 "cells": [
  {
   "cell_type": "markdown",
   "metadata": {},
   "source": [
    "Top 100 Bestselling Book Reviews\n"
   ]
  },
  {
   "cell_type": "code",
   "execution_count": 64,
   "metadata": {
    "execution": {
     "iopub.execute_input": "2023-11-15T12:17:48.136247Z",
     "iopub.status.busy": "2023-11-15T12:17:48.135431Z",
     "iopub.status.idle": "2023-11-15T12:17:48.140977Z",
     "shell.execute_reply": "2023-11-15T12:17:48.140166Z",
     "shell.execute_reply.started": "2023-11-15T12:17:48.136212Z"
    }
   },
   "outputs": [],
   "source": [
    "import pandas as pd\n",
    "import matplotlib.pyplot as plt\n",
    "import seaborn as sns\n",
    "import numpy as np\n",
    "from scipy.stats import iqr"
   ]
  },
  {
   "cell_type": "code",
   "execution_count": 39,
   "metadata": {
    "_cell_guid": "b1076dfc-b9ad-4769-8c92-a6c4dae69d19",
    "_uuid": "8f2839f25d086af736a60e9eeb907d3b93b6e0e5",
    "execution": {
     "iopub.execute_input": "2023-11-15T12:19:48.517822Z",
     "iopub.status.busy": "2023-11-15T12:19:48.517411Z",
     "iopub.status.idle": "2023-11-15T12:19:48.557963Z",
     "shell.execute_reply": "2023-11-15T12:19:48.556740Z",
     "shell.execute_reply.started": "2023-11-15T12:19:48.517792Z"
    }
   },
   "outputs": [],
   "source": [
    "top100 = pd.read_csv(\"Top-100 Trending Books.csv\", index_col = 0).dropna()\n",
    "reviews = pd.read_csv(\"customer reviews.csv\")"
   ]
  },
  {
   "cell_type": "code",
   "execution_count": 40,
   "metadata": {
    "execution": {
     "iopub.execute_input": "2023-11-15T12:19:50.741636Z",
     "iopub.status.busy": "2023-11-15T12:19:50.741233Z",
     "iopub.status.idle": "2023-11-15T12:19:50.759191Z",
     "shell.execute_reply": "2023-11-15T12:19:50.757764Z",
     "shell.execute_reply.started": "2023-11-15T12:19:50.741606Z"
    }
   },
   "outputs": [
    {
     "data": {
      "text/html": [
       "<div>\n",
       "<style scoped>\n",
       "    .dataframe tbody tr th:only-of-type {\n",
       "        vertical-align: middle;\n",
       "    }\n",
       "\n",
       "    .dataframe tbody tr th {\n",
       "        vertical-align: top;\n",
       "    }\n",
       "\n",
       "    .dataframe thead th {\n",
       "        text-align: right;\n",
       "    }\n",
       "</style>\n",
       "<table border=\"1\" class=\"dataframe\">\n",
       "  <thead>\n",
       "    <tr style=\"text-align: right;\">\n",
       "      <th></th>\n",
       "      <th>book title</th>\n",
       "      <th>book price</th>\n",
       "      <th>rating</th>\n",
       "      <th>author</th>\n",
       "      <th>year of publication</th>\n",
       "      <th>genre</th>\n",
       "      <th>url</th>\n",
       "    </tr>\n",
       "    <tr>\n",
       "      <th>Rank</th>\n",
       "      <th></th>\n",
       "      <th></th>\n",
       "      <th></th>\n",
       "      <th></th>\n",
       "      <th></th>\n",
       "      <th></th>\n",
       "      <th></th>\n",
       "    </tr>\n",
       "  </thead>\n",
       "  <tbody>\n",
       "    <tr>\n",
       "      <th>1</th>\n",
       "      <td>Iron Flame (The Empyrean, 2)</td>\n",
       "      <td>18.42</td>\n",
       "      <td>4.1</td>\n",
       "      <td>Rebecca Yarros</td>\n",
       "      <td>2023</td>\n",
       "      <td>Fantasy Romance</td>\n",
       "      <td>amazon.com/Iron-Flame-Empyrean-Rebecca-Yarros/...</td>\n",
       "    </tr>\n",
       "    <tr>\n",
       "      <th>2</th>\n",
       "      <td>The Woman in Me</td>\n",
       "      <td>20.93</td>\n",
       "      <td>4.5</td>\n",
       "      <td>Britney Spears</td>\n",
       "      <td>2023</td>\n",
       "      <td>Memoir</td>\n",
       "      <td>amazon.com/Woman-Me-Britney-Spears/dp/16680090...</td>\n",
       "    </tr>\n",
       "    <tr>\n",
       "      <th>3</th>\n",
       "      <td>My Name Is Barbra</td>\n",
       "      <td>31.50</td>\n",
       "      <td>4.5</td>\n",
       "      <td>Barbra Streisand</td>\n",
       "      <td>2023</td>\n",
       "      <td>Autobiography</td>\n",
       "      <td>amazon.com/My-Name-Barbra-Streisand/dp/0525429...</td>\n",
       "    </tr>\n",
       "    <tr>\n",
       "      <th>4</th>\n",
       "      <td>Friends, Lovers, and the Big Terrible Thing: A...</td>\n",
       "      <td>23.99</td>\n",
       "      <td>4.4</td>\n",
       "      <td>Matthew Perry</td>\n",
       "      <td>2023</td>\n",
       "      <td>Memoir</td>\n",
       "      <td>amazon.com/Friends-Lovers-Big-Terrible-Thing/d...</td>\n",
       "    </tr>\n",
       "    <tr>\n",
       "      <th>5</th>\n",
       "      <td>How to Catch a Turkey</td>\n",
       "      <td>5.65</td>\n",
       "      <td>4.8</td>\n",
       "      <td>Adam Wallace</td>\n",
       "      <td>2018</td>\n",
       "      <td>Childrens, Fiction</td>\n",
       "      <td>amazon.com/How-Catch-Turkey-Adam-Wallace/dp/14...</td>\n",
       "    </tr>\n",
       "  </tbody>\n",
       "</table>\n",
       "</div>"
      ],
      "text/plain": [
       "                                             book title  book price  rating  \\\n",
       "Rank                                                                          \n",
       "1                          Iron Flame (The Empyrean, 2)       18.42     4.1   \n",
       "2                                       The Woman in Me       20.93     4.5   \n",
       "3                                     My Name Is Barbra       31.50     4.5   \n",
       "4     Friends, Lovers, and the Big Terrible Thing: A...       23.99     4.4   \n",
       "5                                 How to Catch a Turkey        5.65     4.8   \n",
       "\n",
       "                author  year of publication               genre  \\\n",
       "Rank                                                              \n",
       "1       Rebecca Yarros                 2023     Fantasy Romance   \n",
       "2       Britney Spears                 2023              Memoir   \n",
       "3     Barbra Streisand                 2023       Autobiography   \n",
       "4        Matthew Perry                 2023              Memoir   \n",
       "5         Adam Wallace                 2018  Childrens, Fiction   \n",
       "\n",
       "                                                    url  \n",
       "Rank                                                     \n",
       "1     amazon.com/Iron-Flame-Empyrean-Rebecca-Yarros/...  \n",
       "2     amazon.com/Woman-Me-Britney-Spears/dp/16680090...  \n",
       "3     amazon.com/My-Name-Barbra-Streisand/dp/0525429...  \n",
       "4     amazon.com/Friends-Lovers-Big-Terrible-Thing/d...  \n",
       "5     amazon.com/How-Catch-Turkey-Adam-Wallace/dp/14...  "
      ]
     },
     "execution_count": 40,
     "metadata": {},
     "output_type": "execute_result"
    }
   ],
   "source": [
    "top100.head()"
   ]
  },
  {
   "cell_type": "code",
   "execution_count": 41,
   "metadata": {
    "execution": {
     "iopub.execute_input": "2023-11-15T12:19:55.941017Z",
     "iopub.status.busy": "2023-11-15T12:19:55.940355Z",
     "iopub.status.idle": "2023-11-15T12:19:55.959915Z",
     "shell.execute_reply": "2023-11-15T12:19:55.958358Z",
     "shell.execute_reply.started": "2023-11-15T12:19:55.940968Z"
    }
   },
   "outputs": [
    {
     "data": {
      "text/html": [
       "<div>\n",
       "<style scoped>\n",
       "    .dataframe tbody tr th:only-of-type {\n",
       "        vertical-align: middle;\n",
       "    }\n",
       "\n",
       "    .dataframe tbody tr th {\n",
       "        vertical-align: top;\n",
       "    }\n",
       "\n",
       "    .dataframe thead th {\n",
       "        text-align: right;\n",
       "    }\n",
       "</style>\n",
       "<table border=\"1\" class=\"dataframe\">\n",
       "  <thead>\n",
       "    <tr style=\"text-align: right;\">\n",
       "      <th></th>\n",
       "      <th>Sno</th>\n",
       "      <th>book name</th>\n",
       "      <th>review title</th>\n",
       "      <th>reviewer</th>\n",
       "      <th>reviewer rating</th>\n",
       "      <th>review description</th>\n",
       "      <th>is_verified</th>\n",
       "      <th>date</th>\n",
       "      <th>timestamp</th>\n",
       "      <th>ASIN</th>\n",
       "    </tr>\n",
       "  </thead>\n",
       "  <tbody>\n",
       "    <tr>\n",
       "      <th>0</th>\n",
       "      <td>0</td>\n",
       "      <td>The Woman in Me</td>\n",
       "      <td>Unbelievably impressive. Her torn life on paper.</td>\n",
       "      <td>Murderess Marbie</td>\n",
       "      <td>4</td>\n",
       "      <td>I'm only a third way in. Shipped lightening fa...</td>\n",
       "      <td>True</td>\n",
       "      <td>26-10-2023</td>\n",
       "      <td>Reviewed in the United States October 26, 2023</td>\n",
       "      <td>1668009048</td>\n",
       "    </tr>\n",
       "    <tr>\n",
       "      <th>1</th>\n",
       "      <td>1</td>\n",
       "      <td>The Woman in Me</td>\n",
       "      <td>What a heartbreaking story</td>\n",
       "      <td>L J</td>\n",
       "      <td>5</td>\n",
       "      <td>\"There have been so many times when I was scar...</td>\n",
       "      <td>True</td>\n",
       "      <td>06-11-2023</td>\n",
       "      <td>Reviewed in the United States November 6, 2023</td>\n",
       "      <td>1668009048</td>\n",
       "    </tr>\n",
       "    <tr>\n",
       "      <th>2</th>\n",
       "      <td>2</td>\n",
       "      <td>The Woman in Me</td>\n",
       "      <td>Britney you are so invincible! You are an insp...</td>\n",
       "      <td>Jamie</td>\n",
       "      <td>5</td>\n",
       "      <td>The media could not be loaded. I personally ha...</td>\n",
       "      <td>True</td>\n",
       "      <td>01-11-2023</td>\n",
       "      <td>Reviewed in the United States November 1, 2023</td>\n",
       "      <td>1668009048</td>\n",
       "    </tr>\n",
       "    <tr>\n",
       "      <th>3</th>\n",
       "      <td>3</td>\n",
       "      <td>The Woman in Me</td>\n",
       "      <td>Fast Read, Sad Story</td>\n",
       "      <td>KMG</td>\n",
       "      <td>5</td>\n",
       "      <td>I have been a fan of Britney's music since the...</td>\n",
       "      <td>True</td>\n",
       "      <td>25-10-2023</td>\n",
       "      <td>Reviewed in the United States October 25, 2023</td>\n",
       "      <td>1668009048</td>\n",
       "    </tr>\n",
       "    <tr>\n",
       "      <th>4</th>\n",
       "      <td>4</td>\n",
       "      <td>The Woman in Me</td>\n",
       "      <td>Buy it, it’s worth the read!</td>\n",
       "      <td>Stephanie Brown</td>\n",
       "      <td>5</td>\n",
       "      <td>Whether or not you’re a fan, it’s a great read...</td>\n",
       "      <td>True</td>\n",
       "      <td>01-11-2023</td>\n",
       "      <td>Reviewed in the United States November 1, 2023</td>\n",
       "      <td>1668009048</td>\n",
       "    </tr>\n",
       "    <tr>\n",
       "      <th>...</th>\n",
       "      <td>...</td>\n",
       "      <td>...</td>\n",
       "      <td>...</td>\n",
       "      <td>...</td>\n",
       "      <td>...</td>\n",
       "      <td>...</td>\n",
       "      <td>...</td>\n",
       "      <td>...</td>\n",
       "      <td>...</td>\n",
       "      <td>...</td>\n",
       "    </tr>\n",
       "    <tr>\n",
       "      <th>295</th>\n",
       "      <td>295</td>\n",
       "      <td>The Very Hungry Caterpillar</td>\n",
       "      <td>Cute</td>\n",
       "      <td>Gina</td>\n",
       "      <td>5</td>\n",
       "      <td>This book has been around for decades, got it ...</td>\n",
       "      <td>True</td>\n",
       "      <td>23-10-2023</td>\n",
       "      <td>Reviewed in the United States October 23, 2023</td>\n",
       "      <td>399226907</td>\n",
       "    </tr>\n",
       "    <tr>\n",
       "      <th>296</th>\n",
       "      <td>296</td>\n",
       "      <td>The Very Hungry Caterpillar</td>\n",
       "      <td>Cute classic</td>\n",
       "      <td>JM</td>\n",
       "      <td>4</td>\n",
       "      <td>My little one doesn’t enjoy this book as much ...</td>\n",
       "      <td>True</td>\n",
       "      <td>03-11-2023</td>\n",
       "      <td>Reviewed in the United States November 3, 2023</td>\n",
       "      <td>399226907</td>\n",
       "    </tr>\n",
       "    <tr>\n",
       "      <th>297</th>\n",
       "      <td>297</td>\n",
       "      <td>The Very Hungry Caterpillar</td>\n",
       "      <td>Hungry caterpillar</td>\n",
       "      <td>Loved this book as a child and bought the book...</td>\n",
       "      <td>5</td>\n",
       "      <td>Loved this book as a kid and It means a lot to...</td>\n",
       "      <td>True</td>\n",
       "      <td>18-10-2023</td>\n",
       "      <td>Reviewed in the United States October 18, 2023</td>\n",
       "      <td>399226907</td>\n",
       "    </tr>\n",
       "    <tr>\n",
       "      <th>298</th>\n",
       "      <td>298</td>\n",
       "      <td>The Very Hungry Caterpillar</td>\n",
       "      <td>One of The best gifts for new baby.</td>\n",
       "      <td>Erik B. Anderson</td>\n",
       "      <td>5</td>\n",
       "      <td>CLASSIC WONDERFULLY BOOK.</td>\n",
       "      <td>True</td>\n",
       "      <td>29-10-2023</td>\n",
       "      <td>Reviewed in the United States October 29, 2023</td>\n",
       "      <td>399226907</td>\n",
       "    </tr>\n",
       "    <tr>\n",
       "      <th>299</th>\n",
       "      <td>299</td>\n",
       "      <td>The Very Hungry Caterpillar</td>\n",
       "      <td>Great book</td>\n",
       "      <td>Sheri Mulcock</td>\n",
       "      <td>5</td>\n",
       "      <td>This is a great book for children. The colors ...</td>\n",
       "      <td>True</td>\n",
       "      <td>18-10-2023</td>\n",
       "      <td>Reviewed in the United States October 18, 2023</td>\n",
       "      <td>399226907</td>\n",
       "    </tr>\n",
       "  </tbody>\n",
       "</table>\n",
       "<p>300 rows × 10 columns</p>\n",
       "</div>"
      ],
      "text/plain": [
       "     Sno                    book name  \\\n",
       "0      0              The Woman in Me   \n",
       "1      1              The Woman in Me   \n",
       "2      2              The Woman in Me   \n",
       "3      3              The Woman in Me   \n",
       "4      4              The Woman in Me   \n",
       "..   ...                          ...   \n",
       "295  295  The Very Hungry Caterpillar   \n",
       "296  296  The Very Hungry Caterpillar   \n",
       "297  297  The Very Hungry Caterpillar   \n",
       "298  298  The Very Hungry Caterpillar   \n",
       "299  299  The Very Hungry Caterpillar   \n",
       "\n",
       "                                          review title  \\\n",
       "0     Unbelievably impressive. Her torn life on paper.   \n",
       "1                           What a heartbreaking story   \n",
       "2    Britney you are so invincible! You are an insp...   \n",
       "3                                 Fast Read, Sad Story   \n",
       "4                         Buy it, it’s worth the read!   \n",
       "..                                                 ...   \n",
       "295                                               Cute   \n",
       "296                                       Cute classic   \n",
       "297                                 Hungry caterpillar   \n",
       "298                One of The best gifts for new baby.   \n",
       "299                                         Great book   \n",
       "\n",
       "                                              reviewer  reviewer rating  \\\n",
       "0                                     Murderess Marbie                4   \n",
       "1                                                  L J                5   \n",
       "2                                                Jamie                5   \n",
       "3                                                  KMG                5   \n",
       "4                                      Stephanie Brown                5   \n",
       "..                                                 ...              ...   \n",
       "295                                               Gina                5   \n",
       "296                                                 JM                4   \n",
       "297  Loved this book as a child and bought the book...                5   \n",
       "298                                   Erik B. Anderson                5   \n",
       "299                                      Sheri Mulcock                5   \n",
       "\n",
       "                                    review description  is_verified  \\\n",
       "0    I'm only a third way in. Shipped lightening fa...         True   \n",
       "1    \"There have been so many times when I was scar...         True   \n",
       "2    The media could not be loaded. I personally ha...         True   \n",
       "3    I have been a fan of Britney's music since the...         True   \n",
       "4    Whether or not you’re a fan, it’s a great read...         True   \n",
       "..                                                 ...          ...   \n",
       "295  This book has been around for decades, got it ...         True   \n",
       "296  My little one doesn’t enjoy this book as much ...         True   \n",
       "297  Loved this book as a kid and It means a lot to...         True   \n",
       "298                          CLASSIC WONDERFULLY BOOK.         True   \n",
       "299  This is a great book for children. The colors ...         True   \n",
       "\n",
       "           date                                       timestamp        ASIN  \n",
       "0    26-10-2023  Reviewed in the United States October 26, 2023  1668009048  \n",
       "1    06-11-2023  Reviewed in the United States November 6, 2023  1668009048  \n",
       "2    01-11-2023  Reviewed in the United States November 1, 2023  1668009048  \n",
       "3    25-10-2023  Reviewed in the United States October 25, 2023  1668009048  \n",
       "4    01-11-2023  Reviewed in the United States November 1, 2023  1668009048  \n",
       "..          ...                                             ...         ...  \n",
       "295  23-10-2023  Reviewed in the United States October 23, 2023   399226907  \n",
       "296  03-11-2023  Reviewed in the United States November 3, 2023   399226907  \n",
       "297  18-10-2023  Reviewed in the United States October 18, 2023   399226907  \n",
       "298  29-10-2023  Reviewed in the United States October 29, 2023   399226907  \n",
       "299  18-10-2023  Reviewed in the United States October 18, 2023   399226907  \n",
       "\n",
       "[300 rows x 10 columns]"
      ]
     },
     "execution_count": 41,
     "metadata": {},
     "output_type": "execute_result"
    }
   ],
   "source": [
    "reviews.head(300)"
   ]
  },
  {
   "cell_type": "markdown",
   "metadata": {},
   "source": [
    "### Merging both tabels base on book title and book name id using outer join and saving in top100_reviews variable"
   ]
  },
  {
   "cell_type": "code",
   "execution_count": 42,
   "metadata": {
    "execution": {
     "iopub.execute_input": "2023-11-15T12:19:56.731143Z",
     "iopub.status.busy": "2023-11-15T12:19:56.730676Z",
     "iopub.status.idle": "2023-11-15T12:19:56.741929Z",
     "shell.execute_reply": "2023-11-15T12:19:56.740578Z",
     "shell.execute_reply.started": "2023-11-15T12:19:56.731106Z"
    }
   },
   "outputs": [],
   "source": [
    "top100_reviews = top100.merge(reviews, left_on = \"book title\", right_on = \"book name\")"
   ]
  },
  {
   "cell_type": "code",
   "execution_count": 43,
   "metadata": {
    "execution": {
     "iopub.execute_input": "2023-11-15T12:19:57.111007Z",
     "iopub.status.busy": "2023-11-15T12:19:57.110581Z",
     "iopub.status.idle": "2023-11-15T12:19:57.126121Z",
     "shell.execute_reply": "2023-11-15T12:19:57.124715Z",
     "shell.execute_reply.started": "2023-11-15T12:19:57.110975Z"
    },
    "scrolled": true
   },
   "outputs": [
    {
     "name": "stdout",
     "output_type": "stream",
     "text": [
      "<class 'pandas.core.frame.DataFrame'>\n",
      "Index: 97 entries, 1 to 100\n",
      "Data columns (total 7 columns):\n",
      " #   Column               Non-Null Count  Dtype  \n",
      "---  ------               --------------  -----  \n",
      " 0   book title           97 non-null     object \n",
      " 1   book price           97 non-null     float64\n",
      " 2   rating               97 non-null     float64\n",
      " 3   author               97 non-null     object \n",
      " 4   year of publication  97 non-null     int64  \n",
      " 5   genre                97 non-null     object \n",
      " 6   url                  97 non-null     object \n",
      "dtypes: float64(2), int64(1), object(4)\n",
      "memory usage: 6.1+ KB\n"
     ]
    }
   ],
   "source": [
    "top100.info()"
   ]
  },
  {
   "cell_type": "code",
   "execution_count": 44,
   "metadata": {
    "execution": {
     "iopub.execute_input": "2023-11-15T12:19:58.317702Z",
     "iopub.status.busy": "2023-11-15T12:19:58.317208Z",
     "iopub.status.idle": "2023-11-15T12:19:58.354835Z",
     "shell.execute_reply": "2023-11-15T12:19:58.353469Z",
     "shell.execute_reply.started": "2023-11-15T12:19:58.317660Z"
    }
   },
   "outputs": [
    {
     "data": {
      "text/html": [
       "<div>\n",
       "<style scoped>\n",
       "    .dataframe tbody tr th:only-of-type {\n",
       "        vertical-align: middle;\n",
       "    }\n",
       "\n",
       "    .dataframe tbody tr th {\n",
       "        vertical-align: top;\n",
       "    }\n",
       "\n",
       "    .dataframe thead th {\n",
       "        text-align: right;\n",
       "    }\n",
       "</style>\n",
       "<table border=\"1\" class=\"dataframe\">\n",
       "  <thead>\n",
       "    <tr style=\"text-align: right;\">\n",
       "      <th></th>\n",
       "      <th>book title</th>\n",
       "      <th>book price</th>\n",
       "      <th>rating</th>\n",
       "      <th>author</th>\n",
       "      <th>year of publication</th>\n",
       "      <th>genre</th>\n",
       "      <th>url</th>\n",
       "      <th>Sno</th>\n",
       "      <th>book name</th>\n",
       "      <th>review title</th>\n",
       "      <th>reviewer</th>\n",
       "      <th>reviewer rating</th>\n",
       "      <th>review description</th>\n",
       "      <th>is_verified</th>\n",
       "      <th>date</th>\n",
       "      <th>timestamp</th>\n",
       "      <th>ASIN</th>\n",
       "    </tr>\n",
       "  </thead>\n",
       "  <tbody>\n",
       "    <tr>\n",
       "      <th>0</th>\n",
       "      <td>The Woman in Me</td>\n",
       "      <td>20.93</td>\n",
       "      <td>4.5</td>\n",
       "      <td>Britney Spears</td>\n",
       "      <td>2023</td>\n",
       "      <td>Memoir</td>\n",
       "      <td>amazon.com/Woman-Me-Britney-Spears/dp/16680090...</td>\n",
       "      <td>0</td>\n",
       "      <td>The Woman in Me</td>\n",
       "      <td>Unbelievably impressive. Her torn life on paper.</td>\n",
       "      <td>Murderess Marbie</td>\n",
       "      <td>4</td>\n",
       "      <td>I'm only a third way in. Shipped lightening fa...</td>\n",
       "      <td>True</td>\n",
       "      <td>26-10-2023</td>\n",
       "      <td>Reviewed in the United States October 26, 2023</td>\n",
       "      <td>1668009048</td>\n",
       "    </tr>\n",
       "    <tr>\n",
       "      <th>1</th>\n",
       "      <td>The Woman in Me</td>\n",
       "      <td>20.93</td>\n",
       "      <td>4.5</td>\n",
       "      <td>Britney Spears</td>\n",
       "      <td>2023</td>\n",
       "      <td>Memoir</td>\n",
       "      <td>amazon.com/Woman-Me-Britney-Spears/dp/16680090...</td>\n",
       "      <td>1</td>\n",
       "      <td>The Woman in Me</td>\n",
       "      <td>What a heartbreaking story</td>\n",
       "      <td>L J</td>\n",
       "      <td>5</td>\n",
       "      <td>\"There have been so many times when I was scar...</td>\n",
       "      <td>True</td>\n",
       "      <td>06-11-2023</td>\n",
       "      <td>Reviewed in the United States November 6, 2023</td>\n",
       "      <td>1668009048</td>\n",
       "    </tr>\n",
       "    <tr>\n",
       "      <th>2</th>\n",
       "      <td>The Woman in Me</td>\n",
       "      <td>20.93</td>\n",
       "      <td>4.5</td>\n",
       "      <td>Britney Spears</td>\n",
       "      <td>2023</td>\n",
       "      <td>Memoir</td>\n",
       "      <td>amazon.com/Woman-Me-Britney-Spears/dp/16680090...</td>\n",
       "      <td>2</td>\n",
       "      <td>The Woman in Me</td>\n",
       "      <td>Britney you are so invincible! You are an insp...</td>\n",
       "      <td>Jamie</td>\n",
       "      <td>5</td>\n",
       "      <td>The media could not be loaded. I personally ha...</td>\n",
       "      <td>True</td>\n",
       "      <td>01-11-2023</td>\n",
       "      <td>Reviewed in the United States November 1, 2023</td>\n",
       "      <td>1668009048</td>\n",
       "    </tr>\n",
       "    <tr>\n",
       "      <th>3</th>\n",
       "      <td>The Woman in Me</td>\n",
       "      <td>20.93</td>\n",
       "      <td>4.5</td>\n",
       "      <td>Britney Spears</td>\n",
       "      <td>2023</td>\n",
       "      <td>Memoir</td>\n",
       "      <td>amazon.com/Woman-Me-Britney-Spears/dp/16680090...</td>\n",
       "      <td>3</td>\n",
       "      <td>The Woman in Me</td>\n",
       "      <td>Fast Read, Sad Story</td>\n",
       "      <td>KMG</td>\n",
       "      <td>5</td>\n",
       "      <td>I have been a fan of Britney's music since the...</td>\n",
       "      <td>True</td>\n",
       "      <td>25-10-2023</td>\n",
       "      <td>Reviewed in the United States October 25, 2023</td>\n",
       "      <td>1668009048</td>\n",
       "    </tr>\n",
       "    <tr>\n",
       "      <th>4</th>\n",
       "      <td>The Woman in Me</td>\n",
       "      <td>20.93</td>\n",
       "      <td>4.5</td>\n",
       "      <td>Britney Spears</td>\n",
       "      <td>2023</td>\n",
       "      <td>Memoir</td>\n",
       "      <td>amazon.com/Woman-Me-Britney-Spears/dp/16680090...</td>\n",
       "      <td>4</td>\n",
       "      <td>The Woman in Me</td>\n",
       "      <td>Buy it, it’s worth the read!</td>\n",
       "      <td>Stephanie Brown</td>\n",
       "      <td>5</td>\n",
       "      <td>Whether or not you’re a fan, it’s a great read...</td>\n",
       "      <td>True</td>\n",
       "      <td>01-11-2023</td>\n",
       "      <td>Reviewed in the United States November 1, 2023</td>\n",
       "      <td>1668009048</td>\n",
       "    </tr>\n",
       "  </tbody>\n",
       "</table>\n",
       "</div>"
      ],
      "text/plain": [
       "        book title  book price  rating          author  year of publication  \\\n",
       "0  The Woman in Me       20.93     4.5  Britney Spears                 2023   \n",
       "1  The Woman in Me       20.93     4.5  Britney Spears                 2023   \n",
       "2  The Woman in Me       20.93     4.5  Britney Spears                 2023   \n",
       "3  The Woman in Me       20.93     4.5  Britney Spears                 2023   \n",
       "4  The Woman in Me       20.93     4.5  Britney Spears                 2023   \n",
       "\n",
       "    genre                                                url  Sno  \\\n",
       "0  Memoir  amazon.com/Woman-Me-Britney-Spears/dp/16680090...    0   \n",
       "1  Memoir  amazon.com/Woman-Me-Britney-Spears/dp/16680090...    1   \n",
       "2  Memoir  amazon.com/Woman-Me-Britney-Spears/dp/16680090...    2   \n",
       "3  Memoir  amazon.com/Woman-Me-Britney-Spears/dp/16680090...    3   \n",
       "4  Memoir  amazon.com/Woman-Me-Britney-Spears/dp/16680090...    4   \n",
       "\n",
       "         book name                                       review title  \\\n",
       "0  The Woman in Me   Unbelievably impressive. Her torn life on paper.   \n",
       "1  The Woman in Me                         What a heartbreaking story   \n",
       "2  The Woman in Me  Britney you are so invincible! You are an insp...   \n",
       "3  The Woman in Me                               Fast Read, Sad Story   \n",
       "4  The Woman in Me                       Buy it, it’s worth the read!   \n",
       "\n",
       "           reviewer  reviewer rating  \\\n",
       "0  Murderess Marbie                4   \n",
       "1               L J                5   \n",
       "2             Jamie                5   \n",
       "3               KMG                5   \n",
       "4   Stephanie Brown                5   \n",
       "\n",
       "                                  review description  is_verified        date  \\\n",
       "0  I'm only a third way in. Shipped lightening fa...         True  26-10-2023   \n",
       "1  \"There have been so many times when I was scar...         True  06-11-2023   \n",
       "2  The media could not be loaded. I personally ha...         True  01-11-2023   \n",
       "3  I have been a fan of Britney's music since the...         True  25-10-2023   \n",
       "4  Whether or not you’re a fan, it’s a great read...         True  01-11-2023   \n",
       "\n",
       "                                        timestamp        ASIN  \n",
       "0  Reviewed in the United States October 26, 2023  1668009048  \n",
       "1  Reviewed in the United States November 6, 2023  1668009048  \n",
       "2  Reviewed in the United States November 1, 2023  1668009048  \n",
       "3  Reviewed in the United States October 25, 2023  1668009048  \n",
       "4  Reviewed in the United States November 1, 2023  1668009048  "
      ]
     },
     "execution_count": 44,
     "metadata": {},
     "output_type": "execute_result"
    }
   ],
   "source": [
    "top100_reviews.head()"
   ]
  },
  {
   "cell_type": "markdown",
   "metadata": {},
   "source": [
    "### It is necessary to check whether our data set contains many reviews based on not verified users"
   ]
  },
  {
   "cell_type": "code",
   "execution_count": 45,
   "metadata": {
    "execution": {
     "iopub.execute_input": "2023-11-15T12:19:58.357033Z",
     "iopub.status.busy": "2023-11-15T12:19:58.356670Z",
     "iopub.status.idle": "2023-11-15T12:19:58.364423Z",
     "shell.execute_reply": "2023-11-15T12:19:58.362585Z",
     "shell.execute_reply.started": "2023-11-15T12:19:58.357001Z"
    }
   },
   "outputs": [],
   "source": [
    "top100_reviews_by_verification = top100_reviews.groupby(by = \"is_verified\")"
   ]
  },
  {
   "cell_type": "code",
   "execution_count": 47,
   "metadata": {
    "execution": {
     "iopub.execute_input": "2023-11-15T12:20:01.631121Z",
     "iopub.status.busy": "2023-11-15T12:20:01.630664Z",
     "iopub.status.idle": "2023-11-15T12:20:01.656774Z",
     "shell.execute_reply": "2023-11-15T12:20:01.655911Z",
     "shell.execute_reply.started": "2023-11-15T12:20:01.631086Z"
    }
   },
   "outputs": [
    {
     "data": {
      "text/html": [
       "<div>\n",
       "<style scoped>\n",
       "    .dataframe tbody tr th:only-of-type {\n",
       "        vertical-align: middle;\n",
       "    }\n",
       "\n",
       "    .dataframe tbody tr th {\n",
       "        vertical-align: top;\n",
       "    }\n",
       "\n",
       "    .dataframe thead th {\n",
       "        text-align: right;\n",
       "    }\n",
       "</style>\n",
       "<table border=\"1\" class=\"dataframe\">\n",
       "  <thead>\n",
       "    <tr style=\"text-align: right;\">\n",
       "      <th></th>\n",
       "      <th>book title</th>\n",
       "      <th>book price</th>\n",
       "      <th>rating</th>\n",
       "      <th>author</th>\n",
       "      <th>year of publication</th>\n",
       "      <th>genre</th>\n",
       "      <th>url</th>\n",
       "      <th>Sno</th>\n",
       "      <th>book name</th>\n",
       "      <th>review title</th>\n",
       "      <th>reviewer</th>\n",
       "      <th>reviewer rating</th>\n",
       "      <th>review description</th>\n",
       "      <th>is_verified</th>\n",
       "      <th>date</th>\n",
       "      <th>timestamp</th>\n",
       "      <th>ASIN</th>\n",
       "    </tr>\n",
       "  </thead>\n",
       "  <tbody>\n",
       "    <tr>\n",
       "      <th>467</th>\n",
       "      <td>Hidden Potential: The Science of Achieving Gre...</td>\n",
       "      <td>21.0</td>\n",
       "      <td>4.4</td>\n",
       "      <td>Adam M. Grant</td>\n",
       "      <td>2023</td>\n",
       "      <td>Nonfiction, Self Help, Psychology, Business, L...</td>\n",
       "      <td>amazon.com/Hidden-Potential-Science-Achieving-...</td>\n",
       "      <td>447</td>\n",
       "      <td>Hidden Potential: The Science of Achieving Gre...</td>\n",
       "      <td>Enthusiastically presented - carefully structured</td>\n",
       "      <td>Dave Nat</td>\n",
       "      <td>4</td>\n",
       "      <td>You can tell Adam Grant takes his work serious...</td>\n",
       "      <td>False</td>\n",
       "      <td>25-10-2023</td>\n",
       "      <td>Reviewed in the United States October 25, 2023</td>\n",
       "      <td>593653149</td>\n",
       "    </tr>\n",
       "    <tr>\n",
       "      <th>468</th>\n",
       "      <td>Hidden Potential: The Science of Achieving Gre...</td>\n",
       "      <td>21.0</td>\n",
       "      <td>4.4</td>\n",
       "      <td>Adam M. Grant</td>\n",
       "      <td>2023</td>\n",
       "      <td>Nonfiction, Self Help, Psychology, Business, L...</td>\n",
       "      <td>amazon.com/Hidden-Potential-Science-Achieving-...</td>\n",
       "      <td>448</td>\n",
       "      <td>Hidden Potential: The Science of Achieving Gre...</td>\n",
       "      <td>A lot of our school system is set up one way w...</td>\n",
       "      <td>Caroline L.</td>\n",
       "      <td>4</td>\n",
       "      <td>Adam Grant goes into why we should be celebrat...</td>\n",
       "      <td>False</td>\n",
       "      <td>26-10-2023</td>\n",
       "      <td>Reviewed in the United States October 26, 2023</td>\n",
       "      <td>593653149</td>\n",
       "    </tr>\n",
       "    <tr>\n",
       "      <th>469</th>\n",
       "      <td>Hidden Potential: The Science of Achieving Gre...</td>\n",
       "      <td>21.0</td>\n",
       "      <td>4.4</td>\n",
       "      <td>Adam M. Grant</td>\n",
       "      <td>2023</td>\n",
       "      <td>Nonfiction, Self Help, Psychology, Business, L...</td>\n",
       "      <td>amazon.com/Hidden-Potential-Science-Achieving-...</td>\n",
       "      <td>449</td>\n",
       "      <td>Hidden Potential: The Science of Achieving Gre...</td>\n",
       "      <td>Embrace the Power of Being a Sponge</td>\n",
       "      <td>Noreen Wise</td>\n",
       "      <td>5</td>\n",
       "      <td>Adam Grant is an amazing storyteller, and \"Hid...</td>\n",
       "      <td>False</td>\n",
       "      <td>30-10-2023</td>\n",
       "      <td>Reviewed in the United States October 30, 2023</td>\n",
       "      <td>593653149</td>\n",
       "    </tr>\n",
       "  </tbody>\n",
       "</table>\n",
       "</div>"
      ],
      "text/plain": [
       "                                            book title  book price  rating  \\\n",
       "467  Hidden Potential: The Science of Achieving Gre...        21.0     4.4   \n",
       "468  Hidden Potential: The Science of Achieving Gre...        21.0     4.4   \n",
       "469  Hidden Potential: The Science of Achieving Gre...        21.0     4.4   \n",
       "\n",
       "            author  year of publication  \\\n",
       "467  Adam M. Grant                 2023   \n",
       "468  Adam M. Grant                 2023   \n",
       "469  Adam M. Grant                 2023   \n",
       "\n",
       "                                                 genre  \\\n",
       "467  Nonfiction, Self Help, Psychology, Business, L...   \n",
       "468  Nonfiction, Self Help, Psychology, Business, L...   \n",
       "469  Nonfiction, Self Help, Psychology, Business, L...   \n",
       "\n",
       "                                                   url  Sno  \\\n",
       "467  amazon.com/Hidden-Potential-Science-Achieving-...  447   \n",
       "468  amazon.com/Hidden-Potential-Science-Achieving-...  448   \n",
       "469  amazon.com/Hidden-Potential-Science-Achieving-...  449   \n",
       "\n",
       "                                             book name  \\\n",
       "467  Hidden Potential: The Science of Achieving Gre...   \n",
       "468  Hidden Potential: The Science of Achieving Gre...   \n",
       "469  Hidden Potential: The Science of Achieving Gre...   \n",
       "\n",
       "                                          review title     reviewer  \\\n",
       "467  Enthusiastically presented - carefully structured     Dave Nat   \n",
       "468  A lot of our school system is set up one way w...  Caroline L.   \n",
       "469                Embrace the Power of Being a Sponge  Noreen Wise   \n",
       "\n",
       "     reviewer rating                                 review description  \\\n",
       "467                4  You can tell Adam Grant takes his work serious...   \n",
       "468                4  Adam Grant goes into why we should be celebrat...   \n",
       "469                5  Adam Grant is an amazing storyteller, and \"Hid...   \n",
       "\n",
       "     is_verified        date                                       timestamp  \\\n",
       "467        False  25-10-2023  Reviewed in the United States October 25, 2023   \n",
       "468        False  26-10-2023  Reviewed in the United States October 26, 2023   \n",
       "469        False  30-10-2023  Reviewed in the United States October 30, 2023   \n",
       "\n",
       "          ASIN  \n",
       "467  593653149  \n",
       "468  593653149  \n",
       "469  593653149  "
      ]
     },
     "execution_count": 47,
     "metadata": {},
     "output_type": "execute_result"
    }
   ],
   "source": [
    "top100_reviews.query('is_verified == False')"
   ]
  },
  {
   "cell_type": "markdown",
   "metadata": {},
   "source": [
    "### As we can see there are only 3 reviews for not verified users - the amount of data for False option is too small to analyze the data dividing into verified and not verified users"
   ]
  },
  {
   "cell_type": "markdown",
   "metadata": {},
   "source": [
    "### The coefficient between book price and and rating is about 0.29 - there is no significant correlation\n",
    "#### Base on colors on the plot we may think that books in top 100 bestselling which were published after 2010  year might have more significant correlation between price and rating - lets check that!\n"
   ]
  },
  {
   "cell_type": "code",
   "execution_count": 61,
   "metadata": {},
   "outputs": [
    {
     "data": {
      "text/plain": [
       "array([[ 1.        , -0.28581606],\n",
       "       [-0.28581606,  1.        ]])"
      ]
     },
     "execution_count": 61,
     "metadata": {},
     "output_type": "execute_result"
    }
   ],
   "source": [
    "np.corrcoef(x = top100[\"book price\"], y = top100[\"rating\"])"
   ]
  },
  {
   "cell_type": "markdown",
   "metadata": {},
   "source": [
    "### The coefficient between book price and rating for books that were published after 2010 year is even lower! - 0.25 - there is no significant correlation"
   ]
  },
  {
   "cell_type": "code",
   "execution_count": 56,
   "metadata": {},
   "outputs": [
    {
     "data": {
      "text/plain": [
       "array([[ 1.      , -0.247524],\n",
       "       [-0.247524,  1.      ]])"
      ]
     },
     "execution_count": 56,
     "metadata": {},
     "output_type": "execute_result"
    }
   ],
   "source": [
    "np.corrcoef(x = top100.where(top100[\"year of publication\"] > 2010).dropna()[\"book price\"],\n",
    "            y = top100.where(top100[\"year of publication\"] > 2010).dropna()[\"rating\"])"
   ]
  },
  {
   "cell_type": "markdown",
   "metadata": {},
   "source": [
    "### To compare in any way both ratings - the official one and reviewer rating lets plot boxplot and histogram"
   ]
  },
  {
   "cell_type": "code",
   "execution_count": 106,
   "metadata": {
    "scrolled": false
   },
   "outputs": [
    {
     "data": {
      "image/png": "[encoded data removed]",
      "text/plain": [
       "<Figure size 640x480 with 1 Axes>"
      ]
     },
     "metadata": {},
     "output_type": "display_data"
    }
   ],
   "source": [
    "fig, ax = plt.subplots()\n",
    "ax.boxplot([top100_reviews[\"rating\"],top100_reviews[\"reviewer rating\"]])\n",
    "ax.set_xticklabels([\"Rating\", \"reviewer rating\"])\n",
    "ax.set_ylabel(\"Rating (1-5)\")\n",
    "\n",
    "plt.show()"
   ]
  },
  {
   "cell_type": "code",
   "execution_count": 102,
   "metadata": {},
   "outputs": [
    {
     "data": {
      "image/png": "[encoded data removed]",
      "text/plain": [
       "<Figure size 640x480 with 1 Axes>"
      ]
     },
     "metadata": {},
     "output_type": "display_data"
    }
   ],
   "source": [
    "plt.hist(top100_reviews[\"rating\"], alpha = 0.5)\n",
    "plt.hist(top100_reviews[\"reviewer rating\"], alpha = 0.5)\n",
    "plt.title(\"Histograms of official film rating and reviewer rating\")\n",
    "plt.legend([\"official film rating\",\"reviewer rating\"])\n",
    "plt.show()"
   ]
  },
  {
   "cell_type": "markdown",
   "metadata": {},
   "source": [
    "### As we can see the boxplot and distribution of reviewer rating is slightly strange\n",
    "#### The cause might be that the scale of official film rating was more continuous than reviewer rating as for reviewer ratings we observe only integer numbers"
   ]
  },
  {
   "cell_type": "markdown",
   "metadata": {},
   "source": [
    "### THE CORRELATION BETWEEN THE LENGTH OF THE REVIEW TITLE AND THE REVIEWER RATING"
   ]
  },
  {
   "cell_type": "code",
   "execution_count": 6,
   "metadata": {},
   "outputs": [],
   "source": [
    "reviews['Review title length'] = reviews['review title'].apply(lambda x: len(str(x).split()))"
   ]
  },
  {
   "cell_type": "code",
   "execution_count": 48,
   "metadata": {},
   "outputs": [
    {
     "name": "stderr",
     "output_type": "stream",
     "text": [
      "C:\\Users\\User\\anaconda3\\Lib\\site-packages\\seaborn\\axisgrid.py:118: UserWarning: The figure layout has changed to tight\n",
      "  self._figure.tight_layout(*args, **kwargs)\n"
     ]
    },
    {
     "data": {
      "text/plain": [
       "<seaborn.axisgrid.FacetGrid at 0x29527a0c390>"
      ]
     },
     "execution_count": 48,
     "metadata": {},
     "output_type": "execute_result"
    },
    {
     "data": {
      "image/png": "[encoded data removed]",
      "text/plain": [
       "<Figure size 641.611x500 with 1 Axes>"
      ]
     },
     "metadata": {},
     "output_type": "display_data"
    }
   ],
   "source": [
    "sns.relplot(x = \"book price\", y = \"rating\", data = top100, kind = \"scatter\", hue = \"year of publication\")"
   ]
  },
  {
   "cell_type": "code",
   "execution_count": 8,
   "metadata": {},
   "outputs": [
    {
     "data": {
      "image/png": "[encoded data removed]",
      "text/plain": [
       "<Figure size 432x288 with 1 Axes>"
      ]
     },
     "metadata": {
      "needs_background": "light"
     },
     "output_type": "display_data"
    }
   ],
   "source": [
    "plt.scatter(reviews['Review title length'], reviews['reviewer rating'])\n",
    "plt.title('Relationship between Review title length and Reviewer rating')\n",
    "plt.xlabel('Review title length')\n",
    "plt.ylabel('Reviewer Rating')\n",
    "plt.show()\n"
   ]
  },
  {
   "cell_type": "code",
   "execution_count": 10,
   "metadata": {},
   "outputs": [
    {
     "name": "stdout",
     "output_type": "stream",
     "text": [
      "Correlation between the length of review title and reviewer rating: -0.11946857301813008\n"
     ]
    }
   ],
   "source": [
    "correlation = reviews['Review title length'].corr(reviews['reviewer rating'])\n",
    "print(f\"Correlation between the length of review title and reviewer rating: {correlation}\")\n"
   ]
  },
  {
   "cell_type": "markdown",
   "metadata": {},
   "source": [
    "The correlation between the length of the revie title and reviewer rating is negative, which suggest the longer the title, the worse the rating. However, the relation is not strong, estimated at the level of roughly -0.12."
   ]
  },
  {
   "cell_type": "markdown",
   "metadata": {},
   "source": [
    "### Review description length vs review score: check for correlation and visualization."
   ]
  },
  {
   "cell_type": "code",
   "execution_count": null,
   "metadata": {},
   "outputs": [],
   "source": [
    "# getting series of description length values\n",
    "rev_desc = top100_reviews['review description']\n",
    "rev_desc = pd.Series(rev_desc)\n",
    "rev_desc_length = rev_desc.str.len()\n",
    "\n",
    "top100_reviews['review description length'] = rev_desc_length\n",
    "review_score = top100_reviews['reviewer rating']"
   ]
  },
  {
   "cell_type": "markdown",
   "metadata": {},
   "source": [
    "#### Visualisation and correlation check\n",
    "There is no significant correlation between length of the review (based od string length) and the review score. This could also be seen on the plot when considering the whole range of reviews."
   ]
  },
  {
   "cell_type": "code",
   "execution_count": null,
   "metadata": {},
   "outputs": [
    {
     "name": "stderr",
     "output_type": "stream",
     "text": [
      "d:\\Anaconda\\Lib\\site-packages\\seaborn\\axisgrid.py:118: UserWarning: The figure layout has changed to tight\n",
      "  self._figure.tight_layout(*args, **kwargs)\n"
     ]
    },
    {
     "data": {
      "text/plain": [
       "array([[ 1.        , -0.14862296],\n",
       "       [-0.14862296,  1.        ]])"
      ]
     },
     "metadata": {},
     "output_type": "display_data"
    },
    {
     "data": {
      "image/png": "[encoded data removed]",
      "text/plain": [
       "<Figure size 500x500 with 1 Axes>"
      ]
     },
     "metadata": {},
     "output_type": "display_data"
    }
   ],
   "source": [
    "sns.relplot(x = \"review description length\", y = \"reviewer rating\", data = top100_reviews, kind = \"scatter\")\n",
    "np.corrcoef(x = top100_reviews['review description length'], y = top100_reviews['reviewer rating'])"
   ]
  },
  {
   "cell_type": "markdown",
   "metadata": {},
   "source": [
    "#### Analysis of correlation without text length outliers\n",
    "Outliers will be dropped using IQR rule."
   ]
  },
  {
   "cell_type": "code",
   "execution_count": null,
   "metadata": {},
   "outputs": [
    {
     "data": {
      "text/plain": [
       "count      890.000000\n",
       "mean      1143.767416\n",
       "std       2136.416001\n",
       "min          3.000000\n",
       "25%        130.250000\n",
       "50%        362.000000\n",
       "75%       1029.500000\n",
       "max      20208.000000\n",
       "Name: review description, dtype: float64"
      ]
     },
     "metadata": {},
     "output_type": "display_data"
    }
   ],
   "source": [
    "rev_desc_length.describe()"
   ]
  },
  {
   "cell_type": "code",
   "execution_count": null,
   "metadata": {},
   "outputs": [
    {
     "name": "stdout",
     "output_type": "stream",
     "text": [
      "Mean: 1143.77 Median: 362.0\n",
      "Q1: 130.25 Q3: 1029.5 IQR: 899.25\n",
      "Lower range: -1218.625 Upper range: 2378.375\n",
      "After adjustment:\n",
      " Lower range: 0 Upper range: 2378.375\n"
     ]
    }
   ],
   "source": [
    "Q3 = np.quantile(rev_desc_length, 0.75)\n",
    "print('Mean:', '%.2f' % rev_desc_length.mean(), 'Median:', rev_desc_length.median())\n",
    "Q1 = np.quantile(rev_desc_length, 0.25)\n",
    "IQR = Q3 - Q1\n",
    "print('Q1:', Q1, 'Q3:', Q3, 'IQR:', IQR)\n",
    "lower_range = Q1 - 1.5 * IQR\n",
    "upper_range = Q3 + 1.5 * IQR\n",
    "print('Lower range:', lower_range, 'Upper range:', upper_range)\n",
    "\n",
    "# considering the fact that review cannot have less than 0 words, 0 is lower level\n",
    "lower_range = 0\n",
    "print('After adjustment:\\n','Lower range:', lower_range, 'Upper range:', upper_range)"
   ]
  },
  {
   "cell_type": "code",
   "execution_count": null,
   "metadata": {},
   "outputs": [],
   "source": [
    "#rev_desc_length.where(rev_desc_length < upper_range).dropna()\n",
    "#rev_desc_length.loc[lambda x : (x < upper_range)]\n",
    "\n",
    "s1 = rev_desc_length < upper_range\n",
    "s2 = rev_desc_length > 0\n",
    "\n",
    "s1 = list(s1)\n",
    "s2 = list(s2)\n",
    "\n",
    "s1 = np.array(s1, dtype = bool)\n",
    "s2 = np.array(s2, dtype = bool)\n",
    "\n",
    "# Boolean vector to select indexes that match the conditions\n",
    "final_list = list(np.logical_and(s1, s2))\n"
   ]
  },
  {
   "cell_type": "code",
   "execution_count": null,
   "metadata": {},
   "outputs": [
    {
     "name": "stderr",
     "output_type": "stream",
     "text": [
      "d:\\Anaconda\\Lib\\site-packages\\seaborn\\axisgrid.py:118: UserWarning: The figure layout has changed to tight\n",
      "  self._figure.tight_layout(*args, **kwargs)\n"
     ]
    },
    {
     "data": {
      "text/plain": [
       "array([[ 1.        , -0.12657871],\n",
       "       [-0.12657871,  1.        ]])"
      ]
     },
     "metadata": {},
     "output_type": "display_data"
    },
    {
     "data": {
      "image/png": "[encoded data removed]",
      "text/plain": [
       "<Figure size 500x500 with 1 Axes>"
      ]
     },
     "metadata": {},
     "output_type": "display_data"
    }
   ],
   "source": [
    "sns.relplot(x = rev_desc_length[final_list], y = review_score[final_list] , kind = \"scatter\")\n",
    "np.corrcoef(x = rev_desc_length[final_list], y = review_score[final_list])"
   ]
  },
  {
   "cell_type": "markdown",
   "metadata": {},
   "source": [
    "There is no correlation even after dropping the outliers."
   ]
  },
  {
   "cell_type": "markdown",
   "metadata": {},
   "source": [
    "### Distribution of book genres in the data set."
   ]
  },
  {
   "cell_type": "code",
   "execution_count": null,
   "metadata": {},
   "outputs": [
    {
     "name": "stdout",
     "output_type": "stream",
     "text": [
      "Length of splitted list assigning genres to each title: 890\n"
     ]
    }
   ],
   "source": [
    "genres = top100_reviews['genre']\n",
    "genres = list(genres)\n",
    "\n",
    "splitted_genres = []\n",
    "for x in genres:\n",
    "    splitted_genres.append(x.split(', ')[:])\n",
    "\n",
    "print('Length of splitted list assigning genres to each title:', len(splitted_genres))"
   ]
  },
  {
   "cell_type": "code",
   "execution_count": null,
   "metadata": {},
   "outputs": [],
   "source": [
    "flat_list = []\n",
    "for sublist in splitted_genres:\n",
    "    for item in sublist:\n",
    "        flat_list.append(item)\n",
    "\n",
    "set_of_genres = set(flat_list)"
   ]
  },
  {
   "cell_type": "code",
   "execution_count": null,
   "metadata": {},
   "outputs": [],
   "source": [
    "\n",
    "list_of_genres = list(set_of_genres)\n",
    "list_of_genres.sort()\n",
    "\n",
    "genre_df = pd.DataFrame(list_of_genres, columns=['Unique Genres List'])"
   ]
  },
  {
   "cell_type": "code",
   "execution_count": null,
   "metadata": {},
   "outputs": [],
   "source": [
    "top100_reviews = top100_reviews.drop_duplicates(subset='book name')\n",
    "\n",
    "genres_based_on_titles = top100_reviews['genre']\n",
    "genres_based_on_titles = list(genres_based_on_titles)\n",
    "\n",
    "splitted_genres_by_titles = []\n",
    "for x in genres_based_on_titles:\n",
    "    splitted_genres_by_titles.append(x.split(', ')[:])"
   ]
  },
  {
   "cell_type": "code",
   "execution_count": null,
   "metadata": {},
   "outputs": [],
   "source": [
    "flat_list_by_title = []\n",
    "for sublist in splitted_genres_by_titles:\n",
    "    for item in sublist:\n",
    "        flat_list_by_title.append(item)"
   ]
  },
  {
   "cell_type": "code",
   "execution_count": null,
   "metadata": {},
   "outputs": [],
   "source": [
    "from collections import Counter\n",
    "\n",
    "count_help = Counter(flat_list_by_title)\n",
    "list_of_appearances = [count_help.get(v) for v in list_of_genres]"
   ]
  },
  {
   "cell_type": "code",
   "execution_count": null,
   "metadata": {},
   "outputs": [
    {
     "data": {
      "image/png": "[encoded data removed]",
      "text/plain": [
       "<Figure size 1000x600 with 1 Axes>"
      ]
     },
     "metadata": {},
     "output_type": "display_data"
    }
   ],
   "source": [
    "genre_df['appearances'] = list_of_appearances\n",
    "genre_df = genre_df.sort_values(by='appearances', ascending=False)\n",
    "top10_genres = genre_df.head(10)\n",
    "\n",
    "plt.figure(figsize=(10,6))\n",
    "plt.bar(top10_genres['Unique Genres List'], top10_genres['appearances'])\n",
    "plt.xlabel('Genres')\n",
    "plt.ylabel('Number of Appearances')\n",
    "plt.title('Genre Appearances Histogram')\n",
    "plt.xticks(rotation=90)\n",
    "plt.show()"
   ]
  },
  {
   "cell_type": "markdown",
   "metadata": {},
   "source": [
    "The histogram shows top 10 most popular book genres on the list. The genres themselve overlap, as one book could be assigned to multiple genres. For example one book could be considered as a Fiction and Childrens book."
   ]
  }
 ],
 "metadata": {
  "kaggle": {
   "accelerator": "none",
   "dataSources": [
    {
     "datasetId": 3968810,
     "sourceId": 6926747,
     "sourceType": "datasetVersion"
    }
   ],
   "dockerImageVersionId": 30579,
   "isGpuEnabled": false,
   "isInternetEnabled": false,
   "language": "python",
   "sourceType": "notebook"
  },
  "kernelspec": {
   "display_name": "Python 3 (ipykernel)",
   "language": "python",
   "name": "python3"
  },
  "language_info": {
   "codemirror_mode": {
    "name": "ipython",
    "version": 3
   },
   "file_extension": ".py",
   "mimetype": "text/x-python",
   "name": "python",
   "nbconvert_exporter": "python",
   "pygments_lexer": "ipython3",
   "version": "3.9.7"
  }
 },
 "nbformat": 4,
 "nbformat_minor": 4
}
